{
 "cells": [
  {
   "cell_type": "markdown",
   "id": "432daa7a",
   "metadata": {},
   "source": [
    "# ResNet from Scratch"
   ]
  },
  {
   "cell_type": "markdown",
   "id": "e8385868",
   "metadata": {},
   "source": [
    "I've implemented ResNet from scratch (it was a little tricky compared to some of the other reimplementations I've done) and want to try it out to first see if the forward / backward passes are working fine and then try it against a vision dataset (CIFAR10)."
   ]
  },
  {
   "cell_type": "markdown",
   "id": "5e5d6a04",
   "metadata": {},
   "source": [
    "I'm going to work with ResNet18 here because my compute is pretty limited (just my laptop)."
   ]
  },
  {
   "cell_type": "markdown",
   "id": "6104f769",
   "metadata": {},
   "source": [
    "I'll start with the imports / setting up env."
   ]
  },
  {
   "cell_type": "code",
   "execution_count": 2,
   "id": "6c81c8cd",
   "metadata": {},
   "outputs": [],
   "source": [
    "import sys\n",
    "import os\n",
    "sys.path.append(os.path.abspath(\"..\"))  # resnet/ is up one level"
   ]
  },
  {
   "cell_type": "markdown",
   "id": "275ad184",
   "metadata": {},
   "source": [
    "And now let's do our main imports. I'm calling in torchvision mainly for the dataset functionality that they provide."
   ]
  },
  {
   "cell_type": "code",
   "execution_count": 3,
   "id": "d68f3b6f",
   "metadata": {},
   "outputs": [],
   "source": [
    "import torch\n",
    "import torch.nn as nn\n",
    "import torch.optim as optim\n",
    "import torchvision\n",
    "from torchvision import datasets, transforms\n",
    "import matplotlib.pyplot as plt\n",
    "import numpy as np\n",
    "from resnet.resnet import resnet18\n",
    "from resnet.utils import initialize_weights\n",
    "from tqdm import tqdm"
   ]
  },
  {
   "cell_type": "markdown",
   "id": "43253bca",
   "metadata": {},
   "source": [
    "Before we move on let's check that all the test cases are passing."
   ]
  },
  {
   "cell_type": "code",
   "execution_count": 4,
   "id": "f89ef866",
   "metadata": {},
   "outputs": [
    {
     "name": "stdout",
     "output_type": "stream",
     "text": [
      "\u001b[1m============================= test session starts ==============================\u001b[0m\n",
      "platform darwin -- Python 3.13.2, pytest-8.4.1, pluggy-1.6.0\n",
      "rootdir: /Users/akhilvreddy/Documents/resnet-reimplementation\n",
      "configfile: pytest.ini\n",
      "collected 2 items\n",
      "\n",
      "test_blocks.py \u001b[32m.\u001b[0m\u001b[32m.\u001b[0m\u001b[32m                                                        [100%]\u001b[0m\n",
      "\n",
      "\u001b[32m============================== \u001b[32m\u001b[1m2 passed\u001b[0m\u001b[32m in 0.43s\u001b[0m\u001b[32m ===============================\u001b[0m\n",
      "\n",
      "\n",
      "\u001b[1m============================= test session starts ==============================\u001b[0m\n",
      "platform darwin -- Python 3.13.2, pytest-8.4.1, pluggy-1.6.0\n",
      "rootdir: /Users/akhilvreddy/Documents/resnet-reimplementation\n",
      "configfile: pytest.ini\n",
      "collected 2 items\n",
      "\n",
      "test_resnet.py \u001b[32m.\u001b[0m\u001b[32m.\u001b[0m\u001b[32m                                                        [100%]\u001b[0m\n",
      "\n",
      "\u001b[32m============================== \u001b[32m\u001b[1m2 passed\u001b[0m\u001b[32m in 0.54s\u001b[0m\u001b[32m ===============================\u001b[0m\n",
      "\n",
      "\n"
     ]
    }
   ],
   "source": [
    "import subprocess\n",
    "import os\n",
    "\n",
    "os.chdir(\"../tests\")\n",
    "result = subprocess.run([\"pytest\", \"test_blocks.py\"], capture_output=True, text=True)\n",
    "\n",
    "print(result.stdout)\n",
    "print(result.stderr)\n",
    "\n",
    "result = subprocess.run([\"pytest\", \"test_resnet.py\"], capture_output=True, text=True)\n",
    "\n",
    "print(result.stdout)\n",
    "print(result.stderr)"
   ]
  },
  {
   "cell_type": "markdown",
   "id": "4a7cdfb7",
   "metadata": {},
   "source": [
    "I thought about using MNIST first (to just check that the model was learning) but with the image sizes being different (and CNNs being overkill) I decided to just stick to CIFAR."
   ]
  },
  {
   "cell_type": "code",
   "execution_count": 5,
   "id": "1581e9ca",
   "metadata": {},
   "outputs": [],
   "source": [
    "transform = transforms.Compose([\n",
    "    transforms.ToTensor(),\n",
    "    transforms.Normalize((0.5,), (0.5,))\n",
    "])\n",
    "\n",
    "train_data = datasets.CIFAR10(root='./data', train=True, transform=transform, download=True)\n",
    "test_data = datasets.CIFAR10(root='./data', train=False, transform=transform)\n",
    "\n",
    "train_loader = torch.utils.data.DataLoader(train_data, batch_size=64, shuffle=True, num_workers=4)\n",
    "test_loader = torch.utils.data.DataLoader(test_data, batch_size=64, shuffle=False, num_workers=4)\n",
    "\n",
    "classes = train_data.classes"
   ]
  },
  {
   "cell_type": "markdown",
   "id": "4985c943",
   "metadata": {},
   "source": [
    "We can now instantiate the model."
   ]
  },
  {
   "cell_type": "code",
   "execution_count": 6,
   "id": "6a6fbf4f",
   "metadata": {},
   "outputs": [],
   "source": [
    "device = torch.device(\"cuda\" if torch.cuda.is_available() else \"cpu\")\n",
    "model = resnet18(num_classes=10).to(device)\n",
    "initialize_weights(model)"
   ]
  },
  {
   "cell_type": "markdown",
   "id": "d8cf10b9",
   "metadata": {},
   "source": [
    "And the loss function / optimizer."
   ]
  },
  {
   "cell_type": "code",
   "execution_count": 7,
   "id": "67e8d02a",
   "metadata": {},
   "outputs": [],
   "source": [
    "criterion = nn.CrossEntropyLoss()\n",
    "optimizer = optim.Adam(model.parameters(), lr=1e-3)"
   ]
  },
  {
   "cell_type": "markdown",
   "id": "5a6e1f08",
   "metadata": {},
   "source": [
    "We can now set it to train. I think 3 epochs should be okay to see if the model is learning. I also added early stopping because this was taking a little while to train and I felt that the training was going to flatline after a bit."
   ]
  },
  {
   "cell_type": "code",
   "execution_count": null,
   "id": "240838d8",
   "metadata": {},
   "outputs": [
    {
     "name": "stderr",
     "output_type": "stream",
     "text": [
      "Epoch [1/3]: 100%|██████████| 782/782 [23:32<00:00,  1.81s/it, loss=1.48]    \n"
     ]
    },
    {
     "name": "stdout",
     "output_type": "stream",
     "text": [
      "Epoch 1/3 - Avg Loss: 1.3872\n"
     ]
    },
    {
     "name": "stderr",
     "output_type": "stream",
     "text": [
      "Epoch [2/3]: 100%|██████████| 782/782 [08:38<00:00,  1.51it/s, loss=1.24]   \n"
     ]
    },
    {
     "name": "stdout",
     "output_type": "stream",
     "text": [
      "Epoch 2/3 - Avg Loss: 0.9923\n"
     ]
    },
    {
     "name": "stderr",
     "output_type": "stream",
     "text": [
      "Epoch [3/3]: 100%|██████████| 782/782 [04:38<00:00,  2.81it/s, loss=0.701]"
     ]
    },
    {
     "name": "stdout",
     "output_type": "stream",
     "text": [
      "Epoch 3/3 - Avg Loss: 0.8163\n"
     ]
    },
    {
     "name": "stderr",
     "output_type": "stream",
     "text": [
      "\n"
     ]
    }
   ],
   "source": [
    "from tqdm import tqdm\n",
    "\n",
    "epochs = 3\n",
    "early_stopping_threshold = 0.3\n",
    "train_losses = []\n",
    "\n",
    "for epoch in range(epochs):\n",
    "    model.train()\n",
    "    running_loss = 0.0\n",
    "    loop = tqdm(train_loader, desc=f\"Epoch [{epoch+1}/{epochs}]\", leave=True)\n",
    "\n",
    "    for inputs, targets in loop:\n",
    "        inputs, targets = inputs.to(device), targets.to(device)\n",
    "\n",
    "        optimizer.zero_grad()\n",
    "        outputs = model(inputs)\n",
    "        loss = criterion(outputs, targets)\n",
    "        loss.backward()\n",
    "        optimizer.step()\n",
    "\n",
    "        running_loss += loss.item()\n",
    "        loop.set_postfix(loss=loss.item())\n",
    "\n",
    "    avg_loss = running_loss / len(train_loader)\n",
    "    train_losses.append(avg_loss)\n",
    "    print(f\"Epoch {epoch+1}/{epochs} - Avg Loss: {avg_loss:.4f}\")\n",
    "\n",
    "    if avg_loss < early_stopping_threshold:\n",
    "        print(f\"Early stopping triggered at epoch {epoch+1} (loss < {early_stopping_threshold})\")\n",
    "        break"
   ]
  },
  {
   "cell_type": "markdown",
   "id": "b44a3636",
   "metadata": {},
   "source": [
    "Here's what the learning curve looks like, given that we had early stopping."
   ]
  },
  {
   "cell_type": "code",
   "execution_count": 9,
   "id": "6e587a50",
   "metadata": {},
   "outputs": [
    {
     "data": {
      "image/png": "[encoded data removed]",
      "text/plain": [
       "<Figure size 640x480 with 1 Axes>"
      ]
     },
     "metadata": {},
     "output_type": "display_data"
    }
   ],
   "source": [
    "plt.plot(train_losses)\n",
    "plt.title(\"Training Loss\")\n",
    "plt.xlabel(\"Epoch\")\n",
    "plt.ylabel(\"Loss\")\n",
    "plt.show()"
   ]
  },
  {
   "cell_type": "markdown",
   "id": "de9810b0",
   "metadata": {},
   "source": [
    "Our loss wasn't too low (0.8) but I want to see how it will hold out against the test set"
   ]
  },
  {
   "cell_type": "code",
   "execution_count": null,
   "id": "b6101e63",
   "metadata": {},
   "outputs": [
    {
     "name": "stderr",
     "output_type": "stream",
     "text": [
      "Evaluating: 100%|██████████| 157/157 [00:50<00:00,  3.10it/s, acc=70.4]"
     ]
    },
    {
     "name": "stdout",
     "output_type": "stream",
     "text": [
      "✅ Test Accuracy: 70.36%\n"
     ]
    },
    {
     "name": "stderr",
     "output_type": "stream",
     "text": [
      "\n"
     ]
    }
   ],
   "source": [
    "model.eval()\n",
    "correct = 0\n",
    "total = 0\n",
    "\n",
    "with torch.no_grad():\n",
    "    loop = tqdm(test_loader, desc=\"Evaluating\", leave=True)\n",
    "    for inputs, labels in loop:\n",
    "        inputs, labels = inputs.to(device), labels.to(device)\n",
    "        outputs = model(inputs)\n",
    "        _, preds = torch.max(outputs, 1)\n",
    "        correct += (preds == labels).sum().item()\n",
    "        total += labels.size(0)\n",
    "\n",
    "        loop.set_postfix(acc=100 * correct / total)\n",
    "\n",
    "print(f\"✅ Test Accuracy: {100 * correct / total:.2f}%\")"
   ]
  },
  {
   "cell_type": "code",
   "execution_count": null,
   "id": "1800402b",
   "metadata": {},
   "outputs": [
    {
     "data": {
      "image/png": "[encoded data removed]",
      "text/plain": [
       "<Figure size 640x480 with 1 Axes>"
      ]
     },
     "metadata": {},
     "output_type": "display_data"
    },
    {
     "name": "stdout",
     "output_type": "stream",
     "text": [
      "Predicted: ['cat', 'ship', 'airplane', 'airplane']\n",
      "Actual:    ['cat', 'ship', 'ship', 'airplane']\n"
     ]
    }
   ],
   "source": [
    "def imshow(img):\n",
    "    img = img / 2 + 0.5  # unnormalize\n",
    "    npimg = img.numpy()\n",
    "    plt.imshow(np.transpose(npimg, (1, 2, 0)))\n",
    "    plt.show()\n",
    "\n",
    "dataiter = iter(test_loader)\n",
    "images, labels = next(dataiter)\n",
    "\n",
    "imshow(torchvision.utils.make_grid(images[:4]))\n",
    "\n",
    "model.eval()\n",
    "images = images.to(device)\n",
    "outputs = model(images[:4])\n",
    "_, preds = torch.max(outputs, 1)\n",
    "\n",
    "print(\"Predicted:\", [classes[p] for p in preds])\n",
    "print(\"Actual:\", [classes[l] for l in labels[:4]])"
   ]
  },
  {
   "cell_type": "markdown",
   "id": "f53deb02",
   "metadata": {},
   "source": [
    "This isn't bad at all in my opinion. ResNet18 with 3 epochs was able to reach 70% accuracy and we have proof. The first two pictures do look like a car and ship and the last one does look like an airplane which our model correctly predicted (out of many labels). I'm confident that with more epochs this model would perform way better. "
   ]
  }
 ],
 "metadata": {
  "kernelspec": {
   "display_name": ".venv",
   "language": "python",
   "name": "python3"
  },
  "language_info": {
   "codemirror_mode": {
    "name": "ipython",
    "version": 3
   },
   "file_extension": ".py",
   "mimetype": "text/x-python",
   "name": "python",
   "nbconvert_exporter": "python",
   "pygments_lexer": "ipython3",
   "version": "3.13.2"
  }
 },
 "nbformat": 4,
 "nbformat_minor": 5
}
